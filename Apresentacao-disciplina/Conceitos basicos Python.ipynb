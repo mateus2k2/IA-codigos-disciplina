{
  "nbformat": 4,
  "nbformat_minor": 0,
  "metadata": {
    "colab": {
      "name": "Aula IA - Conceitos basicos Python.ipynb",
      "provenance": [],
      "authorship_tag": "ABX9TyN5ETqpEluh+9WtT/6BnFDD",
      "include_colab_link": true
    },
    "kernelspec": {
      "name": "python3",
      "display_name": "Python 3"
    }
  },
  "cells": [
    {
      "cell_type": "markdown",
      "metadata": {
        "id": "view-in-github",
        "colab_type": "text"
      },
      "source": [
        "<a href=\"https://colab.research.google.com/github/jadsoncastro/IA-codigos-disciplina/blob/main/Apresentacao-disciplina/Conceitos%20basicos%20Python.ipynb\" target=\"_parent\"><img src=\"https://colab.research.google.com/assets/colab-badge.svg\" alt=\"Open In Colab\"/></a>"
      ]
    },
    {
      "cell_type": "markdown",
      "metadata": {
        "id": "GXY5gMBG7YXS"
      },
      "source": [
        "# Entrada e saída de dados\n",
        "* Configuração dos tipos de entrada (***Int, float, string***)\n",
        "* Padrão na formatação da saída"
      ]
    },
    {
      "cell_type": "code",
      "metadata": {
        "id": "6V2kKpy4tCwY",
        "outputId": "1d877f92-fa88-4d7b-80dd-0b93746f3fb6",
        "colab": {
          "base_uri": "https://localhost:8080/"
        }
      },
      "source": [
        "valor = int(input())\n",
        "valor2= int(input())\n",
        "valor3= float(input())"
      ],
      "execution_count": 7,
      "outputs": [
        {
          "name": "stdout",
          "output_type": "stream",
          "text": [
            "10\n",
            "3\n",
            "7\n"
          ]
        }
      ]
    },
    {
      "cell_type": "code",
      "metadata": {
        "id": "gjNDfk7vucbd",
        "outputId": "0707e42a-a280-4e5e-d41c-3bdd68af64b0",
        "colab": {
          "base_uri": "https://localhost:8080/"
        }
      },
      "source": [
        "print(\"O valor eh: %.2f\" % valor3)"
      ],
      "execution_count": 8,
      "outputs": [
        {
          "output_type": "stream",
          "name": "stdout",
          "text": [
            "O valor eh: 7.00\n"
          ]
        }
      ]
    },
    {
      "cell_type": "markdown",
      "metadata": {
        "id": "gilqkqMJ7eWY"
      },
      "source": [
        "#Estruturas condicionais"
      ]
    },
    {
      "cell_type": "code",
      "metadata": {
        "id": "J2IoaXsMxJoA",
        "outputId": "57b68c56-b51a-438c-bf7d-f03558fd04f0",
        "colab": {
          "base_uri": "https://localhost:8080/"
        }
      },
      "source": [
        "if valor2 > 6:\n",
        "  print(\"O aluno foi aprovado na disciplina\")\n",
        "else:\n",
        "  print(\"O aluno vai pra final!\")\n",
        "\n",
        "\n",
        "if valor2 > 6:\n",
        "  print(\"O aluno foi aprovado na disciplina\")\n",
        "elif valor3 > 6:\n",
        "  print(\"O aluno foi aprovado no exame especial\")\n",
        "else:\n",
        "  print(\"O aluno foi reprovado\")\n",
        "\n",
        "# if elif else"
      ],
      "execution_count": 10,
      "outputs": [
        {
          "output_type": "stream",
          "name": "stdout",
          "text": [
            "O aluno vai pra final!\n",
            "O aluno foi aprovado no exame especial\n"
          ]
        }
      ]
    },
    {
      "cell_type": "markdown",
      "metadata": {
        "id": "K6WivO8FyZxK"
      },
      "source": [
        "# Bloco sobre estruturas de **repetição**\n",
        "\n",
        "\n",
        "*   Repetição simples\n",
        "*   Repetição aninhada\n",
        "\n"
      ]
    },
    {
      "cell_type": "code",
      "metadata": {
        "id": "8AZ4Y-sgylwI",
        "outputId": "f60238ba-476c-4866-fc45-cf6c6959a5f8",
        "colab": {
          "base_uri": "https://localhost:8080/"
        }
      },
      "source": [
        "cont=0\n",
        "while cont < 10:\n",
        "  print(\"Valor\", cont)\n",
        "  cont+=1"
      ],
      "execution_count": 11,
      "outputs": [
        {
          "output_type": "stream",
          "name": "stdout",
          "text": [
            "Valor 0\n",
            "Valor 1\n",
            "Valor 2\n",
            "Valor 3\n",
            "Valor 4\n",
            "Valor 5\n",
            "Valor 6\n",
            "Valor 7\n",
            "Valor 8\n",
            "Valor 9\n"
          ]
        }
      ]
    },
    {
      "cell_type": "code",
      "source": [
        "cont1 = 0\n",
        "\n",
        "while cont1 < 10:\n",
        "  print(\"\\nTabuada do \", cont1)\n",
        "  cont2=0\n",
        "  while cont2 < 10:\n",
        "    print(\"%d * %d = %d\" %(cont1, cont2, cont1*cont2))\n",
        "    cont2+=1\n",
        "  \n",
        "  cont1+=1"
      ],
      "metadata": {
        "id": "HsP55Fc6WahF",
        "outputId": "89af9592-258d-48ec-a7d6-12bea72583af",
        "colab": {
          "base_uri": "https://localhost:8080/"
        }
      },
      "execution_count": 13,
      "outputs": [
        {
          "output_type": "stream",
          "name": "stdout",
          "text": [
            "\n",
            "Tabuada do  0\n",
            "0 * 0 = 0\n",
            "0 * 1 = 0\n",
            "0 * 2 = 0\n",
            "0 * 3 = 0\n",
            "0 * 4 = 0\n",
            "0 * 5 = 0\n",
            "0 * 6 = 0\n",
            "0 * 7 = 0\n",
            "0 * 8 = 0\n",
            "0 * 9 = 0\n",
            "\n",
            "Tabuada do  1\n",
            "1 * 0 = 0\n",
            "1 * 1 = 1\n",
            "1 * 2 = 2\n",
            "1 * 3 = 3\n",
            "1 * 4 = 4\n",
            "1 * 5 = 5\n",
            "1 * 6 = 6\n",
            "1 * 7 = 7\n",
            "1 * 8 = 8\n",
            "1 * 9 = 9\n",
            "\n",
            "Tabuada do  2\n",
            "2 * 0 = 0\n",
            "2 * 1 = 2\n",
            "2 * 2 = 4\n",
            "2 * 3 = 6\n",
            "2 * 4 = 8\n",
            "2 * 5 = 10\n",
            "2 * 6 = 12\n",
            "2 * 7 = 14\n",
            "2 * 8 = 16\n",
            "2 * 9 = 18\n",
            "\n",
            "Tabuada do  3\n",
            "3 * 0 = 0\n",
            "3 * 1 = 3\n",
            "3 * 2 = 6\n",
            "3 * 3 = 9\n",
            "3 * 4 = 12\n",
            "3 * 5 = 15\n",
            "3 * 6 = 18\n",
            "3 * 7 = 21\n",
            "3 * 8 = 24\n",
            "3 * 9 = 27\n",
            "\n",
            "Tabuada do  4\n",
            "4 * 0 = 0\n",
            "4 * 1 = 4\n",
            "4 * 2 = 8\n",
            "4 * 3 = 12\n",
            "4 * 4 = 16\n",
            "4 * 5 = 20\n",
            "4 * 6 = 24\n",
            "4 * 7 = 28\n",
            "4 * 8 = 32\n",
            "4 * 9 = 36\n",
            "\n",
            "Tabuada do  5\n",
            "5 * 0 = 0\n",
            "5 * 1 = 5\n",
            "5 * 2 = 10\n",
            "5 * 3 = 15\n",
            "5 * 4 = 20\n",
            "5 * 5 = 25\n",
            "5 * 6 = 30\n",
            "5 * 7 = 35\n",
            "5 * 8 = 40\n",
            "5 * 9 = 45\n",
            "\n",
            "Tabuada do  6\n",
            "6 * 0 = 0\n",
            "6 * 1 = 6\n",
            "6 * 2 = 12\n",
            "6 * 3 = 18\n",
            "6 * 4 = 24\n",
            "6 * 5 = 30\n",
            "6 * 6 = 36\n",
            "6 * 7 = 42\n",
            "6 * 8 = 48\n",
            "6 * 9 = 54\n",
            "\n",
            "Tabuada do  7\n",
            "7 * 0 = 0\n",
            "7 * 1 = 7\n",
            "7 * 2 = 14\n",
            "7 * 3 = 21\n",
            "7 * 4 = 28\n",
            "7 * 5 = 35\n",
            "7 * 6 = 42\n",
            "7 * 7 = 49\n",
            "7 * 8 = 56\n",
            "7 * 9 = 63\n",
            "\n",
            "Tabuada do  8\n",
            "8 * 0 = 0\n",
            "8 * 1 = 8\n",
            "8 * 2 = 16\n",
            "8 * 3 = 24\n",
            "8 * 4 = 32\n",
            "8 * 5 = 40\n",
            "8 * 6 = 48\n",
            "8 * 7 = 56\n",
            "8 * 8 = 64\n",
            "8 * 9 = 72\n",
            "\n",
            "Tabuada do  9\n",
            "9 * 0 = 0\n",
            "9 * 1 = 9\n",
            "9 * 2 = 18\n",
            "9 * 3 = 27\n",
            "9 * 4 = 36\n",
            "9 * 5 = 45\n",
            "9 * 6 = 54\n",
            "9 * 7 = 63\n",
            "9 * 8 = 72\n",
            "9 * 9 = 81\n"
          ]
        }
      ]
    },
    {
      "cell_type": "markdown",
      "metadata": {
        "id": "9QquJmrm1Adw"
      },
      "source": [
        "# Vetores e matrizes\n",
        "* Inicialização de vetores\n",
        "* Inicialização de matrizes"
      ]
    },
    {
      "cell_type": "code",
      "metadata": {
        "id": "2agGi_cj07cS"
      },
      "source": [
        "vetor = [1,2,4,5,7,8,9]\n",
        "\n",
        "matriz = []\n",
        "\n",
        "cont1 = 0\n",
        "\n",
        "while cont1 < 3:\n",
        "  vetor = []\n",
        "  cont2=0\n",
        "  while cont2 < 3:\n",
        "    vetor.append(int(input()))\n",
        "    cont2+=1\n",
        "  cont1+=1\n",
        "  matriz.append(vetor)"
      ],
      "execution_count": null,
      "outputs": []
    },
    {
      "cell_type": "code",
      "source": [
        "print(matriz)"
      ],
      "metadata": {
        "id": "ZnKOFYfL0kmn",
        "outputId": "5bf7f79f-a22b-4406-b9d2-c55673b0660d",
        "colab": {
          "base_uri": "https://localhost:8080/"
        }
      },
      "execution_count": 16,
      "outputs": [
        {
          "output_type": "stream",
          "name": "stdout",
          "text": [
            "[[1, 2, 3], [4, 5, 6], [7, 8, 9]]\n"
          ]
        }
      ]
    },
    {
      "cell_type": "markdown",
      "metadata": {
        "id": "MXwHwh2U2bMd"
      },
      "source": [
        "# Comando de repetição (FOR)\n",
        "* *for* em listas\n",
        "* parâmetros para a função range\n"
      ]
    },
    {
      "cell_type": "code",
      "metadata": {
        "id": "Z0nxGXX22eaR",
        "outputId": "d14ab202-eb5d-4504-92f4-b8c351bf0930",
        "colab": {
          "base_uri": "https://localhost:8080/"
        }
      },
      "source": [
        "vetor = [1,2,4,5,7,\"macarrao\",9]\n",
        "\n",
        "for valor in vetor:\n",
        "  print(valor)"
      ],
      "execution_count": 18,
      "outputs": [
        {
          "output_type": "stream",
          "name": "stdout",
          "text": [
            "1\n",
            "2\n",
            "4\n",
            "5\n",
            "7\n",
            "macarrao\n",
            "9\n"
          ]
        }
      ]
    },
    {
      "cell_type": "code",
      "source": [
        "for i in range(10):\n",
        "  print(i)"
      ],
      "metadata": {
        "id": "cXT9Mnle1SMn",
        "outputId": "96c3452d-447a-4213-83ed-77d23a1807e9",
        "colab": {
          "base_uri": "https://localhost:8080/"
        }
      },
      "execution_count": 19,
      "outputs": [
        {
          "output_type": "stream",
          "name": "stdout",
          "text": [
            "0\n",
            "1\n",
            "2\n",
            "3\n",
            "4\n",
            "5\n",
            "6\n",
            "7\n",
            "8\n",
            "9\n"
          ]
        }
      ]
    },
    {
      "cell_type": "code",
      "source": [
        "#imprimir os valores de 0 a 10\n",
        "for i in range(0, 12, 2):\n",
        "  print(i)"
      ],
      "metadata": {
        "id": "M1XmtmlB1kyb",
        "outputId": "b6565227-6142-40a5-cae0-225057c56f69",
        "colab": {
          "base_uri": "https://localhost:8080/"
        }
      },
      "execution_count": 20,
      "outputs": [
        {
          "output_type": "stream",
          "name": "stdout",
          "text": [
            "0\n",
            "2\n",
            "4\n",
            "6\n",
            "8\n",
            "10\n"
          ]
        }
      ]
    },
    {
      "cell_type": "code",
      "metadata": {
        "id": "-oSRGdzc3kaE",
        "outputId": "98ce32d8-245d-4dec-a4c6-0c12c4ac9fec",
        "colab": {
          "base_uri": "https://localhost:8080/"
        }
      },
      "source": [
        "for i in range(10, -2, -2):\n",
        "  print(i)"
      ],
      "execution_count": 21,
      "outputs": [
        {
          "output_type": "stream",
          "name": "stdout",
          "text": [
            "10\n",
            "8\n",
            "6\n",
            "4\n",
            "2\n",
            "0\n"
          ]
        }
      ]
    },
    {
      "cell_type": "markdown",
      "metadata": {
        "id": "OCyNIPmt4WMI"
      },
      "source": [
        "# Funções\n",
        "* Definição e retorno de uma função\n"
      ]
    },
    {
      "cell_type": "code",
      "metadata": {
        "id": "OBefRoRQ4Vdf"
      },
      "source": [
        "def multiplica(a=1, b=2):  \n",
        "  return a*b"
      ],
      "execution_count": 24,
      "outputs": []
    },
    {
      "cell_type": "code",
      "metadata": {
        "id": "5Ci_SBE84xUI",
        "outputId": "c7e25199-9f86-4f14-c5a6-75e394442932",
        "colab": {
          "base_uri": "https://localhost:8080/"
        }
      },
      "source": [
        "print(multiplica(3,4))"
      ],
      "execution_count": 26,
      "outputs": [
        {
          "output_type": "stream",
          "name": "stdout",
          "text": [
            "12\n"
          ]
        }
      ]
    },
    {
      "cell_type": "markdown",
      "metadata": {
        "id": "dGit_idp5aEx"
      },
      "source": [
        "#Dicionários"
      ]
    },
    {
      "cell_type": "code",
      "metadata": {
        "id": "PSn9kqyu5NkI",
        "outputId": "d3e79aef-6f05-4fe4-ecee-3f68c40fb4ba",
        "colab": {
          "base_uri": "https://localhost:8080/"
        }
      },
      "source": [
        "#chave:valor\n",
        "\n",
        "dicionario = {\"python\": \"Uma das melhores linguagens de programacao\"}\n",
        "dicionario[\"c++\"] = \"A linguagem oficial de prog 2\"\n",
        "\n",
        "for k,v in dicionario.items():\n",
        "  print(k,\"\\n\",v)"
      ],
      "execution_count": 33,
      "outputs": [
        {
          "output_type": "stream",
          "name": "stdout",
          "text": [
            "python \n",
            " Uma das melhores linguagens de programacao\n",
            "c++ \n",
            " A linguagem oficial de prog 2\n"
          ]
        }
      ]
    },
    {
      "cell_type": "markdown",
      "metadata": {
        "id": "959nnBLp7m8j"
      },
      "source": [
        "#Objetos"
      ]
    },
    {
      "cell_type": "code",
      "metadata": {
        "id": "p8GLiypb7o1F"
      },
      "source": [
        "class Bibliotecarix:\n",
        "\n",
        "  def __init__(self, nome, matricula, idade):\n",
        "    self.nomeFuncionario = nome\n",
        "    self.matricula = matricula\n",
        "    self.idade = idade\n",
        "  \n",
        "  def alteraMatricula(self, novaMatricula):\n",
        "    self.matricula = novaMatricula\n",
        "  \n",
        "\n",
        "  def __str__(self):\n",
        "    return \"Nome: \"+ self.nomeFuncionario + \"\\nIdade: \"+ str(self.idade)"
      ],
      "execution_count": 35,
      "outputs": []
    },
    {
      "cell_type": "code",
      "metadata": {
        "id": "P-zv__9Z8y77",
        "outputId": "0656a70e-4de8-4171-e27d-2cd2be504281",
        "colab": {
          "base_uri": "https://localhost:8080/"
        }
      },
      "source": [
        "variavel = Bibliotecarix(\"Alan\", \"1234\", 21)\n",
        "\n",
        "print(variavel)"
      ],
      "execution_count": 36,
      "outputs": [
        {
          "output_type": "stream",
          "name": "stdout",
          "text": [
            "Nome: Alan\n",
            "Idade: 21\n"
          ]
        }
      ]
    }
  ]
}